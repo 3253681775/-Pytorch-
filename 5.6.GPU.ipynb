{
  "nbformat": 4,
  "nbformat_minor": 0,
  "metadata": {
    "colab": {
      "provenance": [],
      "gpuType": "T4"
    },
    "kernelspec": {
      "name": "python3",
      "display_name": "Python 3"
    },
    "language_info": {
      "name": "python"
    },
    "accelerator": "GPU"
  },
  "cells": [
    {
      "cell_type": "code",
      "execution_count": 11,
      "metadata": {
        "id": "TThi8so3-s8q",
        "colab": {
          "base_uri": "https://localhost:8080/"
        },
        "outputId": "af854c09-8aa2-41fa-bfbf-f66c97959187"
      },
      "outputs": [
        {
          "output_type": "stream",
          "name": "stdout",
          "text": [
            "Thu Oct 23 12:51:43 2025       \n",
            "+-----------------------------------------------------------------------------------------+\n",
            "| NVIDIA-SMI 550.54.15              Driver Version: 550.54.15      CUDA Version: 12.4     |\n",
            "|-----------------------------------------+------------------------+----------------------+\n",
            "| GPU  Name                 Persistence-M | Bus-Id          Disp.A | Volatile Uncorr. ECC |\n",
            "| Fan  Temp   Perf          Pwr:Usage/Cap |           Memory-Usage | GPU-Util  Compute M. |\n",
            "|                                         |                        |               MIG M. |\n",
            "|=========================================+========================+======================|\n",
            "|   0  Tesla T4                       Off |   00000000:00:04.0 Off |                    0 |\n",
            "| N/A   46C    P8             11W /   70W |       0MiB /  15360MiB |      0%      Default |\n",
            "|                                         |                        |                  N/A |\n",
            "+-----------------------------------------+------------------------+----------------------+\n",
            "                                                                                         \n",
            "+-----------------------------------------------------------------------------------------+\n",
            "| Processes:                                                                              |\n",
            "|  GPU   GI   CI        PID   Type   Process name                              GPU Memory |\n",
            "|        ID   ID                                                               Usage      |\n",
            "|=========================================================================================|\n",
            "|  No running processes found                                                             |\n",
            "+-----------------------------------------------------------------------------------------+\n"
          ]
        }
      ],
      "source": [
        "!nvidia-smi"
      ]
    },
    {
      "cell_type": "code",
      "source": [
        "import torch\n",
        "from torch import nn\n",
        "torch.device('cpu'),torch.device('cuda'),torch.device('cuda:1')\n",
        "#torch.device 是 PyTorch 中用于表示计算设备（如 CPU 或 GPU）的类，它的主要作用是明确指定张量（Tensor）或模型（Module）在哪个设备上进行计算"
      ],
      "metadata": {
        "colab": {
          "base_uri": "https://localhost:8080/"
        },
        "id": "YXZfnsc2EYXO",
        "outputId": "e968cee7-4efd-4d31-f0d1-ffd98de97d07"
      },
      "execution_count": 12,
      "outputs": [
        {
          "output_type": "execute_result",
          "data": {
            "text/plain": [
              "(device(type='cpu'), device(type='cuda'), device(type='cuda', index=1))"
            ]
          },
          "metadata": {},
          "execution_count": 12
        }
      ]
    },
    {
      "cell_type": "code",
      "source": [
        "torch.cuda.device_count()"
      ],
      "metadata": {
        "colab": {
          "base_uri": "https://localhost:8080/"
        },
        "id": "9uGHymKZFPR9",
        "outputId": "18fbc803-04f9-4992-c0bb-be7ccf9dd3e8"
      },
      "execution_count": 13,
      "outputs": [
        {
          "output_type": "execute_result",
          "data": {
            "text/plain": [
              "1"
            ]
          },
          "metadata": {},
          "execution_count": 13
        }
      ]
    },
    {
      "cell_type": "code",
      "source": [
        "def try_gpu(i=0):\n",
        "  \"\"\"如果存在，则返回gpu(i),否则返回cpu()\"\"\"\n",
        "  if torch.cuda.device_count() >= i + 1:\n",
        "    #torch.cuda.device_count()返回当前系统中可用的 GPU 数量（整数）。若返回 0，表示无可用 GPU。\n",
        "    #torch.cuda 是 PyTorch 中用于管理和操作 NVIDIA GPU 的模块，提供了一系列与 GPU 相关的功能\n",
        "    return torch.device(f'cuda:{i}')\n",
        "  return torch.device('cpu')\n",
        "\n",
        "def try_all_gpus():\n",
        "  \"\"\"返回所有可用的GPU,如果没有GPU，则返回[cpu(),]\"\"\"\n",
        "  devices = [torch.device(f'cuda:{i}')  for i in range(torch.cuda.device_count())]\n",
        "  return devices if devices else [torch.device('cpu')]\n",
        "\n",
        "try_gpu(),try_gpu(10),try_all_gpus()"
      ],
      "metadata": {
        "colab": {
          "base_uri": "https://localhost:8080/"
        },
        "id": "lR2uDIX3FV_9",
        "outputId": "564121a9-b9fd-4381-b60b-06706dd5ac49"
      },
      "execution_count": 14,
      "outputs": [
        {
          "output_type": "execute_result",
          "data": {
            "text/plain": [
              "(device(type='cuda', index=0),\n",
              " device(type='cpu'),\n",
              " [device(type='cuda', index=0)])"
            ]
          },
          "metadata": {},
          "execution_count": 14
        }
      ]
    },
    {
      "cell_type": "code",
      "source": [
        "#张量与GPU\n",
        "x = torch.tensor([1,2,3])\n",
        "x.device"
      ],
      "metadata": {
        "colab": {
          "base_uri": "https://localhost:8080/"
        },
        "id": "RjH1dh2PH4Di",
        "outputId": "b8215eb6-f4bc-4849-ecce-e60ec097207a"
      },
      "execution_count": 15,
      "outputs": [
        {
          "output_type": "execute_result",
          "data": {
            "text/plain": [
              "device(type='cpu')"
            ]
          },
          "metadata": {},
          "execution_count": 15
        }
      ]
    },
    {
      "cell_type": "code",
      "source": [
        "#存储在GPU上\n",
        "X = torch.ones(2,3,device=try_gpu())\n",
        "X"
      ],
      "metadata": {
        "colab": {
          "base_uri": "https://localhost:8080/"
        },
        "id": "G6nHZuyqITpw",
        "outputId": "9fd80145-21e6-4c76-aa1b-93684bf95ec8"
      },
      "execution_count": 16,
      "outputs": [
        {
          "output_type": "execute_result",
          "data": {
            "text/plain": [
              "tensor([[1., 1., 1.],\n",
              "        [1., 1., 1.]], device='cuda:0')"
            ]
          },
          "metadata": {},
          "execution_count": 16
        }
      ]
    },
    {
      "cell_type": "code",
      "source": [
        "#复制\n",
        "Y = torch.tensor([1,2,3])\n",
        "Z = Y.cuda(0)\n",
        "print(X)\n",
        "print(Z)\n",
        "print(Y)"
      ],
      "metadata": {
        "colab": {
          "base_uri": "https://localhost:8080/"
        },
        "id": "ABJOn9vrIpCv",
        "outputId": "7c86fc99-d196-4e13-d87f-93e582acdee7"
      },
      "execution_count": 23,
      "outputs": [
        {
          "output_type": "stream",
          "name": "stdout",
          "text": [
            "tensor([[1., 1., 1.],\n",
            "        [1., 1., 1.]], device='cuda:0')\n",
            "tensor([1, 2, 3], device='cuda:0')\n",
            "tensor([1, 2, 3])\n"
          ]
        }
      ]
    },
    {
      "cell_type": "code",
      "source": [
        "X+Z"
      ],
      "metadata": {
        "colab": {
          "base_uri": "https://localhost:8080/"
        },
        "id": "3rq-MEzRJo1P",
        "outputId": "6b39fb18-da1b-4c39-d1e5-22076b79422b"
      },
      "execution_count": 24,
      "outputs": [
        {
          "output_type": "execute_result",
          "data": {
            "text/plain": [
              "tensor([[2., 3., 4.],\n",
              "        [2., 3., 4.]], device='cuda:0')"
            ]
          },
          "metadata": {},
          "execution_count": 24
        }
      ]
    },
    {
      "cell_type": "code",
      "source": [
        "Z.cuda(0) is Z\n",
        "#变量已经位于第一个GPU上，如果我们还调用Z.cuda(0),它将返回Z,而不会复制并分配新内存"
      ],
      "metadata": {
        "colab": {
          "base_uri": "https://localhost:8080/"
        },
        "id": "t8f4lZfyJsny",
        "outputId": "af8d4554-fd40-4fd3-8378-94943c7a9b28"
      },
      "execution_count": 28,
      "outputs": [
        {
          "output_type": "execute_result",
          "data": {
            "text/plain": [
              "True"
            ]
          },
          "metadata": {},
          "execution_count": 28
        }
      ]
    },
    {
      "cell_type": "code",
      "source": [
        "net = nn.Sequential(nn.Linear(3,1))\n",
        "net = net.to(device=try_gpu())\n",
        "#net.to(...) 是 PyTorch 中模型（nn.Module）的方法，用于将模型的所有参数（权重、偏置等）转移到指定的计算设备（CPU 或 GPU）。\n",
        "#device=try_gpu() 中，try_gpu() 是之前定义的函数（作用是：若存在 GPU 则返回 GPU 设备，否则返回 CPU 设备），这里作为参数指定目标设备。\n",
        "#赋值 net = ... 表示将转移到新设备后的模型重新赋值给变量 net（原模型的参数仍在原来的设备上，新模型是转移后的版本）。\n",
        "\n",
        "#net.to(...) 中的 net 只是变量名，其作用取决于这个变量指向的对象是否是 PyTorch 的模型（nn.Module 及其子类，如 nn.Sequential、自定义模型等）。\n",
        "#变量名本身不影响 to(...) 方法的功能，只要变量指向的是模型对象，to(...) 就有效\n",
        "\n",
        "#to(...) 是 PyTorch 中所有神经网络模型（继承自 nn.Module）自带的方法，用于将模型参数转移到指定设备（CPU/GPU）。\n",
        "#无论变量名叫什么（net、model、my_network 等），只要这个变量指向一个模型对象，就可以调用 to(...) 方法。\n",
        "\n",
        "## 定义模型，变量名叫 model（不是 net）\n",
        "# model = nn.Sequential(nn.Linear(3, 1))\n",
        "\n",
        "# 调用 to(...) 方法，完全有效\n",
        "# model = model.to(device=try_gpu())  # 将模型转移到目标设备\n",
        "\n"
      ],
      "metadata": {
        "id": "xkOiJDXVKcGy"
      },
      "execution_count": 31,
      "outputs": []
    },
    {
      "cell_type": "code",
      "source": [
        "net(X)"
      ],
      "metadata": {
        "colab": {
          "base_uri": "https://localhost:8080/"
        },
        "id": "6aNNwvKuLmqJ",
        "outputId": "3ceaa2aa-579f-48cc-c38e-8c94c41e38b7"
      },
      "execution_count": 32,
      "outputs": [
        {
          "output_type": "execute_result",
          "data": {
            "text/plain": [
              "tensor([[0.5686],\n",
              "        [0.5686]], device='cuda:0', grad_fn=<AddmmBackward0>)"
            ]
          },
          "metadata": {},
          "execution_count": 32
        }
      ]
    },
    {
      "cell_type": "code",
      "source": [
        "#我们确定模型参数储存在同一个GPU上\n",
        "net[0].weight.data.device"
      ],
      "metadata": {
        "colab": {
          "base_uri": "https://localhost:8080/"
        },
        "id": "rM63ykTINegF",
        "outputId": "a671c53d-e208-4ff2-bf3d-51fd4814e430"
      },
      "execution_count": 33,
      "outputs": [
        {
          "output_type": "execute_result",
          "data": {
            "text/plain": [
              "device(type='cuda', index=0)"
            ]
          },
          "metadata": {},
          "execution_count": 33
        }
      ]
    },
    {
      "cell_type": "code",
      "source": [],
      "metadata": {
        "id": "mBV8s6w0Nub3"
      },
      "execution_count": null,
      "outputs": []
    }
  ]
}