{
 "cells": [
  {
   "cell_type": "code",
   "execution_count": 1,
   "id": "afa20591-c910-44a9-95fa-4b6f8141a518",
   "metadata": {},
   "outputs": [],
   "source": [
    "import torch \n",
    "from torch import nn\n",
    "from d2l import torch as d2l"
   ]
  },
  {
   "cell_type": "code",
   "execution_count": 7,
   "id": "ced00305-0f08-44d4-9e29-2bd6997b543d",
   "metadata": {},
   "outputs": [],
   "source": [
    "def corr2d(X,K):\n",
    "    \"\"\"二维互相关运算\"\"\"\n",
    "    h,w = K.shape\n",
    "    Y = torch.zeros((X.shape[0] - h + 1,X.shape[1] - w + 1))\n",
    "    for i in range(Y.shape[0]):\n",
    "        for j in range(Y.shape[1]):\n",
    "            Y[i,j] = (X[i:i + h,j:j+w]*K).sum()\n",
    "            #这里的乘法是对应位置的乘法，不是矩阵的乘法\n",
    "    return Y"
   ]
  },
  {
   "cell_type": "code",
   "execution_count": 8,
   "id": "e7dec3c3-5eaf-4421-8f86-a722c57c2994",
   "metadata": {},
   "outputs": [
    {
     "data": {
      "text/plain": [
       "tensor([[19., 25.],\n",
       "        [37., 43.]])"
      ]
     },
     "execution_count": 8,
     "metadata": {},
     "output_type": "execute_result"
    }
   ],
   "source": [
    "X = torch.tensor([[0.0,1.0,2.0],[3.0,4.0,5.0],[6.0,7.0,8.0]])\n",
    "K = torch.tensor([[0.0,1.0],[2.0,3.0]])\n",
    "corr2d(X,K)"
   ]
  },
  {
   "cell_type": "code",
   "execution_count": 11,
   "id": "6afb20e9-377e-4834-b1fe-b69214c10829",
   "metadata": {},
   "outputs": [],
   "source": [
    "#卷积层\n",
    "class Conv2D(nn.Module):\n",
    "    def __init__(self,kernel_size):\n",
    "        super().__init__()\n",
    "        self.weight = nn.Parameter(torch.rand(kernel_size))\n",
    "        # nn.Parameter：PyTorch 中用于标记 “可学习参数” 的类。\n",
    "        # 被 nn.Parameter 包装的张量会被自动纳入模型的参数列表（通过 model.parameters() 可访问），\n",
    "        # 并在训练时参与梯度下降更新。\n",
    "        self.bias = nn.Parameter(torch.zeros(1))\n",
    "        \n",
    "        #torch.zeros(1)：生成一个值为 0 的标量张量（形状为 (1,)），作为偏置的初始值。\n",
    "        #PyTorch 的广播机制遵循 **“后缘维度匹配”** 原则，简单来说：当两个张量形状不同时，从最后一个维度开始比较，\n",
    "        # 若维度大小相等，或其中一个为 1，则可以广播；否则无法广播，会报错。\n",
    "        \n",
    "        #由于两个张量维度数不同（1 维 vs 2 维），先给维度少的张量左侧补 “长度为 1 的维度”，使二者维度数一致。\n",
    "        # 偏置 b 补维后：形状从 (1) → (1, 1)（2 维张量，第一维长度 1，第二维长度 1）。\n",
    "        # 输出特征图 Y：形状保持 (2, 2)（2 维张量，第一维长度 2，第二维长度 2）。\n",
    "        # 此时两个张量的形状分别为 (1,1) 和 (2,2)，逐维度对比：\n",
    "        # 第一维：1 vs 2 → 有一个为 1，满足广播条件。\n",
    "        # 第二维：1 vs 2 → 有一个为 1，满足广播条件。\n",
    "\n",
    "    def forward(self,x):\n",
    "        return corr2d(x,self.weight) + self.bias"
   ]
  },
  {
   "cell_type": "code",
   "execution_count": 15,
   "id": "2bb442d0-c6eb-4f16-a1b0-3572d4d82209",
   "metadata": {},
   "outputs": [
    {
     "data": {
      "text/plain": [
       "tensor([[1., 1., 0., 0., 0., 0., 1., 1.],\n",
       "        [1., 1., 0., 0., 0., 0., 1., 1.],\n",
       "        [1., 1., 0., 0., 0., 0., 1., 1.],\n",
       "        [1., 1., 0., 0., 0., 0., 1., 1.],\n",
       "        [1., 1., 0., 0., 0., 0., 1., 1.],\n",
       "        [1., 1., 0., 0., 0., 0., 1., 1.]])"
      ]
     },
     "execution_count": 15,
     "metadata": {},
     "output_type": "execute_result"
    }
   ],
   "source": [
    "#图像中目标的边缘检测\n",
    "#中间4列为黑色(0),其余像素为白色(1)\n",
    "X = torch.ones((6,8))\n",
    "X[:,2:6] = 0\n",
    "X"
   ]
  },
  {
   "cell_type": "code",
   "execution_count": 16,
   "id": "79c6951b-e4ba-4d2f-a863-df5a5e183177",
   "metadata": {},
   "outputs": [],
   "source": [
    "#卷积核\n",
    "#在进行互相关运算时,如果水平相邻两元素相同,则输出0,否则输出为非零\n",
    "K = torch.tensor([[1.0,-1.0]])"
   ]
  },
  {
   "cell_type": "code",
   "execution_count": 17,
   "id": "fc6fc873-f782-452a-9f04-89f188713dd2",
   "metadata": {},
   "outputs": [
    {
     "data": {
      "text/plain": [
       "tensor([[ 0.,  1.,  0.,  0.,  0., -1.,  0.],\n",
       "        [ 0.,  1.,  0.,  0.,  0., -1.,  0.],\n",
       "        [ 0.,  1.,  0.,  0.,  0., -1.,  0.],\n",
       "        [ 0.,  1.,  0.,  0.,  0., -1.,  0.],\n",
       "        [ 0.,  1.,  0.,  0.,  0., -1.,  0.],\n",
       "        [ 0.,  1.,  0.,  0.,  0., -1.,  0.]])"
      ]
     },
     "execution_count": 17,
     "metadata": {},
     "output_type": "execute_result"
    }
   ],
   "source": [
    "Y= corr2d(X,K)\n",
    "Y"
   ]
  },
  {
   "cell_type": "code",
   "execution_count": 20,
   "id": "28db83f4-7ca4-40fe-a7e3-3a573a034ad9",
   "metadata": {},
   "outputs": [
    {
     "data": {
      "text/plain": [
       "tensor([[0., 0., 0., 0., 0.],\n",
       "        [0., 0., 0., 0., 0.],\n",
       "        [0., 0., 0., 0., 0.],\n",
       "        [0., 0., 0., 0., 0.],\n",
       "        [0., 0., 0., 0., 0.],\n",
       "        [0., 0., 0., 0., 0.],\n",
       "        [0., 0., 0., 0., 0.],\n",
       "        [0., 0., 0., 0., 0.]])"
      ]
     },
     "execution_count": 20,
     "metadata": {},
     "output_type": "execute_result"
    }
   ],
   "source": [
    "corr2d(X.t(),K)\n"
   ]
  },
  {
   "cell_type": "code",
   "execution_count": 25,
   "id": "9c3d6af6-22cb-48a9-932b-294799a2ddc2",
   "metadata": {},
   "outputs": [
    {
     "name": "stdout",
     "output_type": "stream",
     "text": [
      "epoch2,loss10.951\n",
      "epoch4,loss2.873\n",
      "epoch6,loss0.906\n",
      "epoch8,loss0.326\n",
      "epoch10,loss0.126\n"
     ]
    }
   ],
   "source": [
    "#学习卷积核\n",
    "#构造一个二维卷积层,它具有一个输出通道和形状为(1,2)的卷积核\n",
    "conv2d = nn.Conv2d(1,1,kernel_size=(1,2),bias = False)\n",
    "# nn.Conv2d：PyTorch 内置的二维卷积层类。\n",
    "# 参数说明：\n",
    "# 1（第一个参数）：in_channels=1，输入通道数为 1（比如灰度图像）。\n",
    "# 1（第二个参数）：out_channels=1，输出通道数为 1（只学习 1 个卷积核）。\n",
    "# kernel_size=(1, 2)：卷积核形状为 1 行 2 列（横向的 1x2 核，适合检测水平方向的变化）。\n",
    "# bias=False：不使用偏置项（简化学习过程）。\n",
    "# 此时卷积核的初始值是随机的（PyTorch 默认初始化），后续通过训练更新\n",
    "\n",
    "\n",
    "#这个二维卷积层使用四维输入和输出格式(批量大小,通道,高度,宽度)\n",
    "#其中批量大小和通道数都为1\n",
    "X = X.reshape((1,1,6,8))\n",
    "Y = Y.reshape((1,1,6,7))\n",
    "#PyTorch 的 nn.Conv2d 是为批量处理多通道数据设计的，它要求输入必须是四维张量，形状严格遵循：(batch_size, in_channels, height, width)四个维度的含义分别是：\n",
    "# batch_size：批量大小（一次输入的样本数量）。,图像个数\n",
    "# in_channels：输入通道数（如灰度图为 1，RGB 图为 3）。\n",
    "# height：输入特征图的高度（行数）。\n",
    "# width：输入特征图的宽度（列数）\n",
    "\n",
    "lr = 3e-2 #学习率\n",
    "\n",
    "for i in range(10):\n",
    "    Y_hat = conv2d(X)\n",
    "    l = (Y_hat -Y)**2\n",
    "    conv2d.zero_grad()# 清零梯度：避免上一轮的梯度累积\n",
    "    l.sum().backward()# 反向传播：计算损失对卷积核的梯度\n",
    "    #迭代卷积核\n",
    "    conv2d.weight.data[:] -= lr*conv2d.weight.grad\n",
    "    if (i+1)%2 == 0:\n",
    "        print(f'epoch{i+1},loss{l.sum():.3f}')"
   ]
  },
  {
   "cell_type": "code",
   "execution_count": 26,
   "id": "8873588e-686b-4063-80a0-6dad4449f909",
   "metadata": {},
   "outputs": [
    {
     "data": {
      "text/plain": [
       "tensor([[ 0.9507, -1.0224]])"
      ]
     },
     "execution_count": 26,
     "metadata": {},
     "output_type": "execute_result"
    }
   ],
   "source": [
    "conv2d.weight.data.reshape((1,2))"
   ]
  },
  {
   "cell_type": "code",
   "execution_count": null,
   "id": "7439e920-e4b4-432e-bc81-550c0612a3a5",
   "metadata": {},
   "outputs": [],
   "source": []
  },
  {
   "cell_type": "code",
   "execution_count": null,
   "id": "0dbb76eb-dc6d-41e1-94f7-db770832432b",
   "metadata": {},
   "outputs": [],
   "source": []
  }
 ],
 "metadata": {
  "kernelspec": {
   "display_name": "d2l-env",
   "language": "python",
   "name": "d2l-env"
  },
  "language_info": {
   "codemirror_mode": {
    "name": "ipython",
    "version": 3
   },
   "file_extension": ".py",
   "mimetype": "text/x-python",
   "name": "python",
   "nbconvert_exporter": "python",
   "pygments_lexer": "ipython3",
   "version": "3.9.23"
  }
 },
 "nbformat": 4,
 "nbformat_minor": 5
}
